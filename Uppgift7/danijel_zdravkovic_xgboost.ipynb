{
 "cells": [
  {
   "cell_type": "code",
   "execution_count": null,
   "metadata": {},
   "outputs": [],
   "source": [
    "import pandas "
   ]
  }
 ],
 "metadata": {
  "interpreter": {
   "hash": "9ffba79dbd9e3b3e119960cf52cbc6ff79a7ceca7ec33bfa712b27eea0915b73"
  },
  "kernelspec": {
   "display_name": "Python 3.10.0 64-bit",
   "language": "python",
   "name": "python3"
  },
  "language_info": {
   "name": "python",
   "version": "3.10.0"
  },
  "orig_nbformat": 4
 },
 "nbformat": 4,
 "nbformat_minor": 2
}
